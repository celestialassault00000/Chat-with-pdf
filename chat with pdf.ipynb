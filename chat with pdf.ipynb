{
 "cells": [
  {
   "cell_type": "code",
   "execution_count": 1,
   "metadata": {},
   "outputs": [
    {
     "name": "stdout",
     "output_type": "stream",
     "text": [
      "Requirement already satisfied: spacy in c:\\users\\dell\\appdata\\local\\programs\\python\\python310\\lib\\site-packages (3.7.1)\n",
      "Requirement already satisfied: spacy-legacy<3.1.0,>=3.0.11 in c:\\users\\dell\\appdata\\local\\programs\\python\\python310\\lib\\site-packages (from spacy) (3.0.12)\n",
      "Requirement already satisfied: spacy-loggers<2.0.0,>=1.0.0 in c:\\users\\dell\\appdata\\local\\programs\\python\\python310\\lib\\site-packages (from spacy) (1.0.5)\n",
      "Requirement already satisfied: murmurhash<1.1.0,>=0.28.0 in c:\\users\\dell\\appdata\\local\\programs\\python\\python310\\lib\\site-packages (from spacy) (1.0.10)\n",
      "Requirement already satisfied: cymem<2.1.0,>=2.0.2 in c:\\users\\dell\\appdata\\local\\programs\\python\\python310\\lib\\site-packages (from spacy) (2.0.8)\n",
      "Requirement already satisfied: preshed<3.1.0,>=3.0.2 in c:\\users\\dell\\appdata\\local\\programs\\python\\python310\\lib\\site-packages (from spacy) (3.0.9)\n",
      "Requirement already satisfied: thinc<8.3.0,>=8.1.8 in c:\\users\\dell\\appdata\\local\\programs\\python\\python310\\lib\\site-packages (from spacy) (8.2.1)\n",
      "Requirement already satisfied: wasabi<1.2.0,>=0.9.1 in c:\\users\\dell\\appdata\\local\\programs\\python\\python310\\lib\\site-packages (from spacy) (1.1.2)\n",
      "Requirement already satisfied: srsly<3.0.0,>=2.4.3 in c:\\users\\dell\\appdata\\local\\programs\\python\\python310\\lib\\site-packages (from spacy) (2.4.8)\n",
      "Requirement already satisfied: catalogue<2.1.0,>=2.0.6 in c:\\users\\dell\\appdata\\local\\programs\\python\\python310\\lib\\site-packages (from spacy) (2.0.10)\n",
      "Requirement already satisfied: weasel<0.4.0,>=0.1.0 in c:\\users\\dell\\appdata\\local\\programs\\python\\python310\\lib\\site-packages (from spacy) (0.3.2)\n",
      "Requirement already satisfied: typer<0.10.0,>=0.3.0 in c:\\users\\dell\\appdata\\local\\programs\\python\\python310\\lib\\site-packages (from spacy) (0.9.0)\n",
      "Requirement already satisfied: pathy>=0.10.0 in c:\\users\\dell\\appdata\\local\\programs\\python\\python310\\lib\\site-packages (from spacy) (0.10.2)\n",
      "Requirement already satisfied: smart-open<7.0.0,>=5.2.1 in c:\\users\\dell\\appdata\\local\\programs\\python\\python310\\lib\\site-packages (from spacy) (6.4.0)\n",
      "Requirement already satisfied: tqdm<5.0.0,>=4.38.0 in c:\\users\\dell\\appdata\\local\\programs\\python\\python310\\lib\\site-packages (from spacy) (4.66.1)\n",
      "Requirement already satisfied: requests<3.0.0,>=2.13.0 in c:\\users\\dell\\appdata\\local\\programs\\python\\python310\\lib\\site-packages (from spacy) (2.28.1)\n",
      "Requirement already satisfied: pydantic!=1.8,!=1.8.1,<3.0.0,>=1.7.4 in c:\\users\\dell\\appdata\\local\\programs\\python\\python310\\lib\\site-packages (from spacy) (2.4.2)\n",
      "Requirement already satisfied: jinja2 in c:\\users\\dell\\appdata\\local\\programs\\python\\python310\\lib\\site-packages (from spacy) (3.1.2)\n",
      "Requirement already satisfied: setuptools in c:\\users\\dell\\appdata\\local\\programs\\python\\python310\\lib\\site-packages (from spacy) (58.1.0)\n",
      "Requirement already satisfied: packaging>=20.0 in c:\\users\\dell\\appdata\\local\\programs\\python\\python310\\lib\\site-packages (from spacy) (21.3)\n",
      "Requirement already satisfied: langcodes<4.0.0,>=3.2.0 in c:\\users\\dell\\appdata\\local\\programs\\python\\python310\\lib\\site-packages (from spacy) (3.3.0)\n",
      "Requirement already satisfied: numpy>=1.19.0 in c:\\users\\dell\\appdata\\local\\programs\\python\\python310\\lib\\site-packages (from spacy) (1.23.1)\n",
      "Requirement already satisfied: pyparsing!=3.0.5,>=2.0.2 in c:\\users\\dell\\appdata\\local\\programs\\python\\python310\\lib\\site-packages (from packaging>=20.0->spacy) (3.0.9)\n",
      "Requirement already satisfied: annotated-types>=0.4.0 in c:\\users\\dell\\appdata\\local\\programs\\python\\python310\\lib\\site-packages (from pydantic!=1.8,!=1.8.1,<3.0.0,>=1.7.4->spacy) (0.6.0)\n",
      "Requirement already satisfied: pydantic-core==2.10.1 in c:\\users\\dell\\appdata\\local\\programs\\python\\python310\\lib\\site-packages (from pydantic!=1.8,!=1.8.1,<3.0.0,>=1.7.4->spacy) (2.10.1)\n",
      "Requirement already satisfied: typing-extensions>=4.6.1 in c:\\users\\dell\\appdata\\local\\programs\\python\\python310\\lib\\site-packages (from pydantic!=1.8,!=1.8.1,<3.0.0,>=1.7.4->spacy) (4.8.0)\n",
      "Requirement already satisfied: charset-normalizer<3,>=2 in c:\\users\\dell\\appdata\\local\\programs\\python\\python310\\lib\\site-packages (from requests<3.0.0,>=2.13.0->spacy) (2.1.0)\n",
      "Requirement already satisfied: idna<4,>=2.5 in c:\\users\\dell\\appdata\\local\\programs\\python\\python310\\lib\\site-packages (from requests<3.0.0,>=2.13.0->spacy) (3.3)\n",
      "Requirement already satisfied: urllib3<1.27,>=1.21.1 in c:\\users\\dell\\appdata\\local\\programs\\python\\python310\\lib\\site-packages (from requests<3.0.0,>=2.13.0->spacy) (1.26.10)\n",
      "Requirement already satisfied: certifi>=2017.4.17 in c:\\users\\dell\\appdata\\local\\programs\\python\\python310\\lib\\site-packages (from requests<3.0.0,>=2.13.0->spacy) (2022.6.15)\n",
      "Requirement already satisfied: blis<0.8.0,>=0.7.8 in c:\\users\\dell\\appdata\\local\\programs\\python\\python310\\lib\\site-packages (from thinc<8.3.0,>=8.1.8->spacy) (0.7.11)\n",
      "Requirement already satisfied: confection<1.0.0,>=0.0.1 in c:\\users\\dell\\appdata\\local\\programs\\python\\python310\\lib\\site-packages (from thinc<8.3.0,>=8.1.8->spacy) (0.1.3)\n",
      "Requirement already satisfied: colorama in c:\\users\\dell\\appdata\\local\\programs\\python\\python310\\lib\\site-packages (from tqdm<5.0.0,>=4.38.0->spacy) (0.4.6)\n",
      "Requirement already satisfied: click<9.0.0,>=7.1.1 in c:\\users\\dell\\appdata\\local\\programs\\python\\python310\\lib\\site-packages (from typer<0.10.0,>=0.3.0->spacy) (8.1.3)\n",
      "Requirement already satisfied: cloudpathlib<0.16.0,>=0.7.0 in c:\\users\\dell\\appdata\\local\\programs\\python\\python310\\lib\\site-packages (from weasel<0.4.0,>=0.1.0->spacy) (0.15.1)\n",
      "Requirement already satisfied: MarkupSafe>=2.0 in c:\\users\\dell\\appdata\\local\\programs\\python\\python310\\lib\\site-packages (from jinja2->spacy) (2.1.1)\n",
      "Note: you may need to restart the kernel to use updated packages.\n"
     ]
    },
    {
     "name": "stderr",
     "output_type": "stream",
     "text": [
      "\n",
      "[notice] A new release of pip is available: 23.1.2 -> 23.2.1\n",
      "[notice] To update, run: python.exe -m pip install --upgrade pip\n"
     ]
    }
   ],
   "source": [
    "pip install -U spacy\n"
   ]
  },
  {
   "cell_type": "code",
   "execution_count": 2,
   "metadata": {},
   "outputs": [
    {
     "name": "stderr",
     "output_type": "stream",
     "text": [
      "\n",
      "[notice] A new release of pip is available: 23.1.2 -> 23.2.1\n",
      "[notice] To update, run: python.exe -m pip install --upgrade pip\n"
     ]
    }
   ],
   "source": [
    "!pip install  openai langchain sentence_transformers chromadb unstructured -q"
   ]
  },
  {
   "cell_type": "code",
   "execution_count": 3,
   "metadata": {},
   "outputs": [
    {
     "name": "stdout",
     "output_type": "stream",
     "text": [
      "Note: you may need to restart the kernel to use updated packages.\n"
     ]
    },
    {
     "name": "stderr",
     "output_type": "stream",
     "text": [
      "\n",
      "[notice] A new release of pip is available: 23.1.2 -> 23.2.1\n",
      "[notice] To update, run: python.exe -m pip install --upgrade pip\n"
     ]
    }
   ],
   "source": [
    "pip install chromadb -q"
   ]
  },
  {
   "cell_type": "code",
   "execution_count": 4,
   "metadata": {},
   "outputs": [
    {
     "name": "stdout",
     "output_type": "stream",
     "text": [
      "Requirement already satisfied: unstructured[pdf] in c:\\users\\dell\\appdata\\local\\programs\\python\\python310\\lib\\site-packages (0.10.19)\n",
      "Requirement already satisfied: chardet in c:\\users\\dell\\appdata\\local\\programs\\python\\python310\\lib\\site-packages (from unstructured[pdf]) (5.2.0)\n",
      "Requirement already satisfied: filetype in c:\\users\\dell\\appdata\\local\\programs\\python\\python310\\lib\\site-packages (from unstructured[pdf]) (1.2.0)\n",
      "Requirement already satisfied: python-magic in c:\\users\\dell\\appdata\\local\\programs\\python\\python310\\lib\\site-packages (from unstructured[pdf]) (0.4.27)\n",
      "Requirement already satisfied: lxml in c:\\users\\dell\\appdata\\local\\programs\\python\\python310\\lib\\site-packages (from unstructured[pdf]) (4.9.3)\n",
      "Requirement already satisfied: nltk in c:\\users\\dell\\appdata\\local\\programs\\python\\python310\\lib\\site-packages (from unstructured[pdf]) (3.8.1)\n",
      "Requirement already satisfied: tabulate in c:\\users\\dell\\appdata\\local\\programs\\python\\python310\\lib\\site-packages (from unstructured[pdf]) (0.9.0)\n",
      "Requirement already satisfied: requests in c:\\users\\dell\\appdata\\local\\programs\\python\\python310\\lib\\site-packages (from unstructured[pdf]) (2.28.1)\n",
      "Requirement already satisfied: beautifulsoup4 in c:\\users\\dell\\appdata\\local\\programs\\python\\python310\\lib\\site-packages (from unstructured[pdf]) (4.11.1)\n",
      "Requirement already satisfied: emoji in c:\\users\\dell\\appdata\\local\\programs\\python\\python310\\lib\\site-packages (from unstructured[pdf]) (2.8.0)\n",
      "Requirement already satisfied: dataclasses-json in c:\\users\\dell\\appdata\\local\\programs\\python\\python310\\lib\\site-packages (from unstructured[pdf]) (0.6.1)\n",
      "Requirement already satisfied: python-iso639 in c:\\users\\dell\\appdata\\local\\programs\\python\\python310\\lib\\site-packages (from unstructured[pdf]) (2023.6.15)\n",
      "Requirement already satisfied: langdetect in c:\\users\\dell\\appdata\\local\\programs\\python\\python310\\lib\\site-packages (from unstructured[pdf]) (1.0.9)\n",
      "Requirement already satisfied: numpy in c:\\users\\dell\\appdata\\local\\programs\\python\\python310\\lib\\site-packages (from unstructured[pdf]) (1.23.1)\n",
      "Requirement already satisfied: pdf2image in c:\\users\\dell\\appdata\\local\\programs\\python\\python310\\lib\\site-packages (from unstructured[pdf]) (1.16.3)\n",
      "Requirement already satisfied: pdfminer.six in c:\\users\\dell\\appdata\\local\\programs\\python\\python310\\lib\\site-packages (from unstructured[pdf]) (20221105)\n",
      "Requirement already satisfied: unstructured-inference==0.6.6 in c:\\users\\dell\\appdata\\local\\programs\\python\\python310\\lib\\site-packages (from unstructured[pdf]) (0.6.6)\n",
      "Requirement already satisfied: unstructured.pytesseract>=0.3.12 in c:\\users\\dell\\appdata\\local\\programs\\python\\python310\\lib\\site-packages (from unstructured[pdf]) (0.3.12)\n",
      "Requirement already satisfied: layoutparser[layoutmodels,tesseract] in c:\\users\\dell\\appdata\\local\\programs\\python\\python310\\lib\\site-packages (from unstructured-inference==0.6.6->unstructured[pdf]) (0.3.4)\n",
      "Requirement already satisfied: python-multipart in c:\\users\\dell\\appdata\\local\\programs\\python\\python310\\lib\\site-packages (from unstructured-inference==0.6.6->unstructured[pdf]) (0.0.6)\n",
      "Requirement already satisfied: huggingface-hub in c:\\users\\dell\\appdata\\local\\programs\\python\\python310\\lib\\site-packages (from unstructured-inference==0.6.6->unstructured[pdf]) (0.17.3)\n",
      "Requirement already satisfied: opencv-python!=4.7.0.68 in c:\\users\\dell\\appdata\\local\\programs\\python\\python310\\lib\\site-packages (from unstructured-inference==0.6.6->unstructured[pdf]) (4.8.1.78)\n",
      "Requirement already satisfied: onnx==1.14.1 in c:\\users\\dell\\appdata\\local\\programs\\python\\python310\\lib\\site-packages (from unstructured-inference==0.6.6->unstructured[pdf]) (1.14.1)\n",
      "Requirement already satisfied: onnxruntime in c:\\users\\dell\\appdata\\local\\programs\\python\\python310\\lib\\site-packages (from unstructured-inference==0.6.6->unstructured[pdf]) (1.16.0)\n",
      "Requirement already satisfied: transformers>=4.25.1 in c:\\users\\dell\\appdata\\local\\programs\\python\\python310\\lib\\site-packages (from unstructured-inference==0.6.6->unstructured[pdf]) (4.34.0)\n",
      "Requirement already satisfied: rapidfuzz in c:\\users\\dell\\appdata\\local\\programs\\python\\python310\\lib\\site-packages (from unstructured-inference==0.6.6->unstructured[pdf]) (3.4.0)\n",
      "Requirement already satisfied: protobuf>=3.20.2 in c:\\users\\dell\\appdata\\local\\programs\\python\\python310\\lib\\site-packages (from onnx==1.14.1->unstructured-inference==0.6.6->unstructured[pdf]) (4.24.4)\n",
      "Requirement already satisfied: typing-extensions>=3.6.2.1 in c:\\users\\dell\\appdata\\local\\programs\\python\\python310\\lib\\site-packages (from onnx==1.14.1->unstructured-inference==0.6.6->unstructured[pdf]) (4.8.0)\n",
      "Requirement already satisfied: packaging>=21.3 in c:\\users\\dell\\appdata\\local\\programs\\python\\python310\\lib\\site-packages (from unstructured.pytesseract>=0.3.12->unstructured[pdf]) (21.3)\n",
      "Requirement already satisfied: Pillow>=8.0.0 in c:\\users\\dell\\appdata\\local\\programs\\python\\python310\\lib\\site-packages (from unstructured.pytesseract>=0.3.12->unstructured[pdf]) (9.2.0)\n",
      "Requirement already satisfied: soupsieve>1.2 in c:\\users\\dell\\appdata\\local\\programs\\python\\python310\\lib\\site-packages (from beautifulsoup4->unstructured[pdf]) (2.3.2.post1)\n",
      "Requirement already satisfied: marshmallow<4.0.0,>=3.18.0 in c:\\users\\dell\\appdata\\local\\programs\\python\\python310\\lib\\site-packages (from dataclasses-json->unstructured[pdf]) (3.20.1)\n",
      "Requirement already satisfied: typing-inspect<1,>=0.4.0 in c:\\users\\dell\\appdata\\local\\programs\\python\\python310\\lib\\site-packages (from dataclasses-json->unstructured[pdf]) (0.9.0)\n",
      "Requirement already satisfied: six in c:\\users\\dell\\appdata\\local\\programs\\python\\python310\\lib\\site-packages (from langdetect->unstructured[pdf]) (1.16.0)\n",
      "Requirement already satisfied: click in c:\\users\\dell\\appdata\\local\\programs\\python\\python310\\lib\\site-packages (from nltk->unstructured[pdf]) (8.1.3)\n",
      "Requirement already satisfied: joblib in c:\\users\\dell\\appdata\\local\\programs\\python\\python310\\lib\\site-packages (from nltk->unstructured[pdf]) (1.3.2)\n",
      "Requirement already satisfied: regex>=2021.8.3 in c:\\users\\dell\\appdata\\local\\programs\\python\\python310\\lib\\site-packages (from nltk->unstructured[pdf]) (2023.10.3)\n",
      "Requirement already satisfied: tqdm in c:\\users\\dell\\appdata\\local\\programs\\python\\python310\\lib\\site-packages (from nltk->unstructured[pdf]) (4.66.1)\n",
      "Requirement already satisfied: charset-normalizer>=2.0.0 in c:\\users\\dell\\appdata\\local\\programs\\python\\python310\\lib\\site-packages (from pdfminer.six->unstructured[pdf]) (2.1.0)\n",
      "Requirement already satisfied: cryptography>=36.0.0 in c:\\users\\dell\\appdata\\local\\programs\\python\\python310\\lib\\site-packages (from pdfminer.six->unstructured[pdf]) (41.0.4)\n",
      "Requirement already satisfied: idna<4,>=2.5 in c:\\users\\dell\\appdata\\local\\programs\\python\\python310\\lib\\site-packages (from requests->unstructured[pdf]) (3.3)\n",
      "Requirement already satisfied: urllib3<1.27,>=1.21.1 in c:\\users\\dell\\appdata\\local\\programs\\python\\python310\\lib\\site-packages (from requests->unstructured[pdf]) (1.26.10)\n",
      "Requirement already satisfied: certifi>=2017.4.17 in c:\\users\\dell\\appdata\\local\\programs\\python\\python310\\lib\\site-packages (from requests->unstructured[pdf]) (2022.6.15)\n",
      "Requirement already satisfied: cffi>=1.12 in c:\\users\\dell\\appdata\\local\\programs\\python\\python310\\lib\\site-packages (from cryptography>=36.0.0->pdfminer.six->unstructured[pdf]) (1.15.1)\n",
      "Requirement already satisfied: pyparsing!=3.0.5,>=2.0.2 in c:\\users\\dell\\appdata\\local\\programs\\python\\python310\\lib\\site-packages (from packaging>=21.3->unstructured.pytesseract>=0.3.12->unstructured[pdf]) (3.0.9)\n",
      "Requirement already satisfied: filelock in c:\\users\\dell\\appdata\\local\\programs\\python\\python310\\lib\\site-packages (from transformers>=4.25.1->unstructured-inference==0.6.6->unstructured[pdf]) (3.12.4)\n",
      "Requirement already satisfied: pyyaml>=5.1 in c:\\users\\dell\\appdata\\local\\programs\\python\\python310\\lib\\site-packages (from transformers>=4.25.1->unstructured-inference==0.6.6->unstructured[pdf]) (6.0.1)\n",
      "Requirement already satisfied: tokenizers<0.15,>=0.14 in c:\\users\\dell\\appdata\\local\\programs\\python\\python310\\lib\\site-packages (from transformers>=4.25.1->unstructured-inference==0.6.6->unstructured[pdf]) (0.14.1)\n",
      "Requirement already satisfied: safetensors>=0.3.1 in c:\\users\\dell\\appdata\\local\\programs\\python\\python310\\lib\\site-packages (from transformers>=4.25.1->unstructured-inference==0.6.6->unstructured[pdf]) (0.4.0)\n",
      "Requirement already satisfied: fsspec in c:\\users\\dell\\appdata\\local\\programs\\python\\python310\\lib\\site-packages (from huggingface-hub->unstructured-inference==0.6.6->unstructured[pdf]) (2023.9.2)\n",
      "Requirement already satisfied: colorama in c:\\users\\dell\\appdata\\local\\programs\\python\\python310\\lib\\site-packages (from tqdm->nltk->unstructured[pdf]) (0.4.6)\n",
      "Requirement already satisfied: mypy-extensions>=0.3.0 in c:\\users\\dell\\appdata\\local\\programs\\python\\python310\\lib\\site-packages (from typing-inspect<1,>=0.4.0->dataclasses-json->unstructured[pdf]) (1.0.0)\n",
      "Requirement already satisfied: scipy in c:\\users\\dell\\appdata\\local\\programs\\python\\python310\\lib\\site-packages (from layoutparser[layoutmodels,tesseract]->unstructured-inference==0.6.6->unstructured[pdf]) (1.11.3)\n",
      "Requirement already satisfied: pandas in c:\\users\\dell\\appdata\\local\\programs\\python\\python310\\lib\\site-packages (from layoutparser[layoutmodels,tesseract]->unstructured-inference==0.6.6->unstructured[pdf]) (1.4.3)\n",
      "Requirement already satisfied: iopath in c:\\users\\dell\\appdata\\local\\programs\\python\\python310\\lib\\site-packages (from layoutparser[layoutmodels,tesseract]->unstructured-inference==0.6.6->unstructured[pdf]) (0.1.10)\n",
      "Requirement already satisfied: pdfplumber in c:\\users\\dell\\appdata\\local\\programs\\python\\python310\\lib\\site-packages (from layoutparser[layoutmodels,tesseract]->unstructured-inference==0.6.6->unstructured[pdf]) (0.10.2)\n",
      "Requirement already satisfied: torch in c:\\users\\dell\\appdata\\local\\programs\\python\\python310\\lib\\site-packages (from layoutparser[layoutmodels,tesseract]->unstructured-inference==0.6.6->unstructured[pdf]) (2.1.0)\n",
      "Requirement already satisfied: torchvision in c:\\users\\dell\\appdata\\local\\programs\\python\\python310\\lib\\site-packages (from layoutparser[layoutmodels,tesseract]->unstructured-inference==0.6.6->unstructured[pdf]) (0.16.0)\n",
      "Requirement already satisfied: effdet in c:\\users\\dell\\appdata\\local\\programs\\python\\python310\\lib\\site-packages (from layoutparser[layoutmodels,tesseract]->unstructured-inference==0.6.6->unstructured[pdf]) (0.4.1)\n",
      "Requirement already satisfied: pytesseract in c:\\users\\dell\\appdata\\local\\programs\\python\\python310\\lib\\site-packages (from layoutparser[layoutmodels,tesseract]->unstructured-inference==0.6.6->unstructured[pdf]) (0.3.10)\n",
      "Requirement already satisfied: coloredlogs in c:\\users\\dell\\appdata\\local\\programs\\python\\python310\\lib\\site-packages (from onnxruntime->unstructured-inference==0.6.6->unstructured[pdf]) (15.0.1)\n",
      "Requirement already satisfied: flatbuffers in c:\\users\\dell\\appdata\\local\\programs\\python\\python310\\lib\\site-packages (from onnxruntime->unstructured-inference==0.6.6->unstructured[pdf]) (23.5.26)\n",
      "Requirement already satisfied: sympy in c:\\users\\dell\\appdata\\local\\programs\\python\\python310\\lib\\site-packages (from onnxruntime->unstructured-inference==0.6.6->unstructured[pdf]) (1.12)\n",
      "Requirement already satisfied: pycparser in c:\\users\\dell\\appdata\\local\\programs\\python\\python310\\lib\\site-packages (from cffi>=1.12->cryptography>=36.0.0->pdfminer.six->unstructured[pdf]) (2.21)\n",
      "Requirement already satisfied: humanfriendly>=9.1 in c:\\users\\dell\\appdata\\local\\programs\\python\\python310\\lib\\site-packages (from coloredlogs->onnxruntime->unstructured-inference==0.6.6->unstructured[pdf]) (10.0)\n",
      "Requirement already satisfied: timm>=0.9.2 in c:\\users\\dell\\appdata\\local\\programs\\python\\python310\\lib\\site-packages (from effdet->layoutparser[layoutmodels,tesseract]->unstructured-inference==0.6.6->unstructured[pdf]) (0.9.7)\n",
      "Requirement already satisfied: pycocotools>=2.0.2 in c:\\users\\dell\\appdata\\local\\programs\\python\\python310\\lib\\site-packages (from effdet->layoutparser[layoutmodels,tesseract]->unstructured-inference==0.6.6->unstructured[pdf]) (2.0.7)\n",
      "Requirement already satisfied: omegaconf>=2.0 in c:\\users\\dell\\appdata\\local\\programs\\python\\python310\\lib\\site-packages (from effdet->layoutparser[layoutmodels,tesseract]->unstructured-inference==0.6.6->unstructured[pdf]) (2.3.0)\n",
      "Requirement already satisfied: networkx in c:\\users\\dell\\appdata\\local\\programs\\python\\python310\\lib\\site-packages (from torch->layoutparser[layoutmodels,tesseract]->unstructured-inference==0.6.6->unstructured[pdf]) (3.1)\n",
      "Requirement already satisfied: jinja2 in c:\\users\\dell\\appdata\\local\\programs\\python\\python310\\lib\\site-packages (from torch->layoutparser[layoutmodels,tesseract]->unstructured-inference==0.6.6->unstructured[pdf]) (3.1.2)\n",
      "Requirement already satisfied: portalocker in c:\\users\\dell\\appdata\\local\\programs\\python\\python310\\lib\\site-packages (from iopath->layoutparser[layoutmodels,tesseract]->unstructured-inference==0.6.6->unstructured[pdf]) (2.8.2)\n",
      "Requirement already satisfied: python-dateutil>=2.8.1 in c:\\users\\dell\\appdata\\local\\programs\\python\\python310\\lib\\site-packages (from pandas->layoutparser[layoutmodels,tesseract]->unstructured-inference==0.6.6->unstructured[pdf]) (2.8.2)\n",
      "Requirement already satisfied: pytz>=2020.1 in c:\\users\\dell\\appdata\\local\\programs\\python\\python310\\lib\\site-packages (from pandas->layoutparser[layoutmodels,tesseract]->unstructured-inference==0.6.6->unstructured[pdf]) (2022.1)\n",
      "Requirement already satisfied: pypdfium2>=4.18.0 in c:\\users\\dell\\appdata\\local\\programs\\python\\python310\\lib\\site-packages (from pdfplumber->layoutparser[layoutmodels,tesseract]->unstructured-inference==0.6.6->unstructured[pdf]) (4.20.0)\n",
      "Requirement already satisfied: mpmath>=0.19 in c:\\users\\dell\\appdata\\local\\programs\\python\\python310\\lib\\site-packages (from sympy->onnxruntime->unstructured-inference==0.6.6->unstructured[pdf]) (1.3.0)\n",
      "Requirement already satisfied: pyreadline3 in c:\\users\\dell\\appdata\\local\\programs\\python\\python310\\lib\\site-packages (from humanfriendly>=9.1->coloredlogs->onnxruntime->unstructured-inference==0.6.6->unstructured[pdf]) (3.4.1)\n",
      "Requirement already satisfied: antlr4-python3-runtime==4.9.* in c:\\users\\dell\\appdata\\local\\programs\\python\\python310\\lib\\site-packages (from omegaconf>=2.0->effdet->layoutparser[layoutmodels,tesseract]->unstructured-inference==0.6.6->unstructured[pdf]) (4.9.3)\n",
      "Requirement already satisfied: matplotlib>=2.1.0 in c:\\users\\dell\\appdata\\local\\programs\\python\\python310\\lib\\site-packages (from pycocotools>=2.0.2->effdet->layoutparser[layoutmodels,tesseract]->unstructured-inference==0.6.6->unstructured[pdf]) (3.8.0)\n",
      "Requirement already satisfied: MarkupSafe>=2.0 in c:\\users\\dell\\appdata\\local\\programs\\python\\python310\\lib\\site-packages (from jinja2->torch->layoutparser[layoutmodels,tesseract]->unstructured-inference==0.6.6->unstructured[pdf]) (2.1.1)\n",
      "Requirement already satisfied: pywin32>=226 in c:\\users\\dell\\appdata\\local\\programs\\python\\python310\\lib\\site-packages (from portalocker->iopath->layoutparser[layoutmodels,tesseract]->unstructured-inference==0.6.6->unstructured[pdf]) (304)\n",
      "Requirement already satisfied: contourpy>=1.0.1 in c:\\users\\dell\\appdata\\local\\programs\\python\\python310\\lib\\site-packages (from matplotlib>=2.1.0->pycocotools>=2.0.2->effdet->layoutparser[layoutmodels,tesseract]->unstructured-inference==0.6.6->unstructured[pdf]) (1.1.1)\n",
      "Requirement already satisfied: cycler>=0.10 in c:\\users\\dell\\appdata\\local\\programs\\python\\python310\\lib\\site-packages (from matplotlib>=2.1.0->pycocotools>=2.0.2->effdet->layoutparser[layoutmodels,tesseract]->unstructured-inference==0.6.6->unstructured[pdf]) (0.12.1)\n",
      "Requirement already satisfied: fonttools>=4.22.0 in c:\\users\\dell\\appdata\\local\\programs\\python\\python310\\lib\\site-packages (from matplotlib>=2.1.0->pycocotools>=2.0.2->effdet->layoutparser[layoutmodels,tesseract]->unstructured-inference==0.6.6->unstructured[pdf]) (4.43.1)\n",
      "Requirement already satisfied: kiwisolver>=1.0.1 in c:\\users\\dell\\appdata\\local\\programs\\python\\python310\\lib\\site-packages (from matplotlib>=2.1.0->pycocotools>=2.0.2->effdet->layoutparser[layoutmodels,tesseract]->unstructured-inference==0.6.6->unstructured[pdf]) (1.4.5)\n",
      "Note: you may need to restart the kernel to use updated packages.\n"
     ]
    },
    {
     "name": "stderr",
     "output_type": "stream",
     "text": [
      "\n",
      "[notice] A new release of pip is available: 23.1.2 -> 23.2.1\n",
      "[notice] To update, run: python.exe -m pip install --upgrade pip\n"
     ]
    }
   ],
   "source": [
    "pip install \"unstructured[pdf]\""
   ]
  },
  {
   "cell_type": "code",
   "execution_count": 5,
   "metadata": {},
   "outputs": [
    {
     "data": {
      "text/plain": [
       "2"
      ]
     },
     "execution_count": 5,
     "metadata": {},
     "output_type": "execute_result"
    }
   ],
   "source": [
    "from langchain.document_loaders import DirectoryLoader\n",
    "\n",
    "directory = \"vos viewer\"\n",
    "\n",
    "def load_docs(directory):\n",
    "  loader = DirectoryLoader(directory)\n",
    "  documents = loader.load()\n",
    "  return documents\n",
    "\n",
    "documents = load_docs(directory)\n",
    "len(documents)\n"
   ]
  },
  {
   "cell_type": "code",
   "execution_count": 11,
   "metadata": {},
   "outputs": [
    {
     "name": "stdout",
     "output_type": "stream",
     "text": [
      "144\n"
     ]
    }
   ],
   "source": [
    "from langchain.text_splitter import RecursiveCharacterTextSplitter\n",
    "\n",
    "def split_docs(documents,chunk_size=1200,chunk_overlap=20):\n",
    "  text_splitter = RecursiveCharacterTextSplitter(chunk_size=chunk_size, chunk_overlap=chunk_overlap)\n",
    "  docs = text_splitter.split_documents(documents)\n",
    "  return docs\n",
    "\n",
    "docs = split_docs(documents)\n",
    "print(len(docs))\n"
   ]
  },
  {
   "cell_type": "code",
   "execution_count": 12,
   "metadata": {},
   "outputs": [],
   "source": [
    "from langchain.embeddings import SentenceTransformerEmbeddings\n",
    "embeddings = SentenceTransformerEmbeddings(model_name=\"all-MiniLM-L6-v2\")\n",
    "\n"
   ]
  },
  {
   "cell_type": "code",
   "execution_count": 10,
   "metadata": {},
   "outputs": [
    {
     "name": "stdout",
     "output_type": "stream",
     "text": [
      "<class 'langchain.vectorstores.chroma.Chroma'>\n"
     ]
    }
   ],
   "source": [
    "\n"
   ]
  },
  {
   "cell_type": "code",
   "execution_count": 13,
   "metadata": {},
   "outputs": [],
   "source": [
    "from langchain.vectorstores import Chroma\n",
    "db = Chroma.from_documents(docs, embeddings)\n"
   ]
  },
  {
   "cell_type": "code",
   "execution_count": 18,
   "metadata": {},
   "outputs": [],
   "source": [
    "query = \"Factors Affecting Wetland?\"\n",
    "\n",
    "matching_docs = db.similarity_search_with_score(query)\n",
    "\n",
    "\n"
   ]
  },
  {
   "cell_type": "code",
   "execution_count": 19,
   "metadata": {},
   "outputs": [
    {
     "name": "stdout",
     "output_type": "stream",
     "text": [
      "(Document(page_content='Many factors cause wetland changes. For example, climate change induced alterations in temperature and precipitation affect the distri- bution of wetlands by changing hydrological and biochemical cycles (Wolfgang et al., 2013). Soil properties are also an important determi- nant of the distribution of wetlands. Research has shown that areas with high soil organic matter contents and low soil salinity value are more conducive to enhancing the distribution of wetlands (BaoShan et al., 2008; Meng et al., 2020). Moreover, topographic factors affect the dis- tribution of wetlands, as most wetlands occur on flat slopes (Creed et al., 2003). In addition, anthropogenic activities, are the most influential factors attributed to wetland loss. Apart from wetland cultivation for agriculture land use, (Bolca et al., 2007), the process of urbanization is\\n\\nCorresponding author.\\n\\nE-mail addresses: libinglun15@mails.ucas.ac.cn (B. Li), huym@iae.ac.cn (Y. Hu), changyu@iae.ac.cn (Y. Chang), lium@iae.ac.cn (M. Liu), wangwj@craes.org.cn\\n\\n(W. Wang), burc@iae.ac.cn (R. Bu), shisixue15@mails.ucas.ac.cn (S. Shi), qili61@163.com (L. Qi).', metadata={'source': 'vos viewer\\\\sactors.pdf'}), 0.5959823131561279)\n",
      "(Document(page_content='Among the observational variables reflecting the latent variables of climate, increased temperature, humidity, maximum temperature, and precipitation, and decreased evaporation can promote the distribution of wetlands. For soil properties, decreased depth and silt and increased clay, TN, OM, and sand can increase the distribution of wetlands. For human disturbance, in comparison to other variables, the distance from the city, the lower population and GDP values are more beneficial for the distribution of wetlands. The roles of the arable land area were not fixed.\\n\\nEcologicalIndicators124(2021)1074136\\n\\nB. Li et al.\\n\\nFig. 3. SEM for the impacts of each variable on the distribution of wetlands in 1980 (a), 1995 (b), 2005 (c), and 2015 (d). Solid lines indicate positive relationships, and dotted lines indicate negative relationships. All relationships are statistically significant (p < 0.05).\\n\\nthat the distance to the city has a positive influence on the distribution of wetlands. This may be because an increase in the area of arable land in the Jing-Jin-Ji region had a negative impact on wetlands in 2015 (Zedler, 2003) (Fig. 5).', metadata={'source': 'vos viewer\\\\sactors.pdf'}), 0.6511592268943787)\n",
      "(Document(page_content='B. Li et al.\\n\\nFig. 5. Line chart of parameter coefficients for direct effects of each observed variable influencing wetland distribution for the latent variables climate (a), soil property (b), human disturbance (c), and terrain (d). TEM is temperature. PRE is precipitation. HUM is humidity. EVA is evaporation. MAXTEM is maximum temperature. DU is distance from urban areas. ALA is arable land area. POP is population. GL is groundwater level.\\n\\nEcologicalIndicators124(2021)10741310\\n\\nB. Li et al.\\n\\nFig. 6. The correlation between the standard deviation of the mean value of the observational variables and the mean value of the path coefficients of the variables.\\n\\nBolca, M., Turkyilmaz, B., Kurucu, Y., Altinbas, U., Esetlili, M.T., Gulgun, B., 2007.', metadata={'source': 'vos viewer\\\\sactors.pdf'}), 0.6588733196258545)\n",
      "(Document(page_content='Many studies have been performed to explore the driving forces of wetland changes. Different regression models, such as multinomial lo- gistic regression and boosted regression trees (Li et al., 2020; Snedden and Steyer, 2013), and correlation analysis between wetland evaluation indices and land use dynamics have been used to explore the causes of wetland changes (Malik and Rai, 2019). Some researchers have related wetland changes to human activities and environmental changes using GIS (Bolca et al., 2007). However, most previous studies have focused on the effects of individual factors on wetland changes, and the effects of the interactions among factors are seldom considered. Structural equa- tion modeling (SEM), a multivariate statistical method proposed by Karl G. Joreskog in the 1970s (Bagozzi et al., 1979), has been widely used to illustrate the complex interactions in addition to the individual effects of variables on changes in the observed targets (Grace, 2008). Compared with traditional models, SEM allows network assumptions at the system level and fits well with the principles of ecology (Schweiger et al., 2016). The Jing-Jin-Ji region, also known as the', metadata={'source': 'vos viewer\\\\sactors.pdf'}), 0.66983962059021)\n"
     ]
    }
   ],
   "source": [
    "for i in matching_docs:\n",
    "    print(i)"
   ]
  }
 ],
 "metadata": {
  "kernelspec": {
   "display_name": "Python 3",
   "language": "python",
   "name": "python3"
  },
  "language_info": {
   "codemirror_mode": {
    "name": "ipython",
    "version": 3
   },
   "file_extension": ".py",
   "mimetype": "text/x-python",
   "name": "python",
   "nbconvert_exporter": "python",
   "pygments_lexer": "ipython3",
   "version": "3.10.2"
  }
 },
 "nbformat": 4,
 "nbformat_minor": 2
}
